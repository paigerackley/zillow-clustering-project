{
 "cells": [
  {
   "cell_type": "code",
   "execution_count": 38,
   "id": "790d2f89",
   "metadata": {},
   "outputs": [],
   "source": [
    "import pandas as pd\n",
    "import os\n",
    "\n",
    "import scipy.stats as stats\n",
    "from sklearn.model_selection import train_test_split\n",
    "from sklearn.preprocessing import MinMaxScaler\n",
    "\n",
    "\n",
    "\n",
    "import matplotlib as plt\n",
    "import seaborn as sns\n",
    "import numpy as np\n",
    "\n",
    "\n",
    "from env import get_db_url"
   ]
  },
  {
   "cell_type": "markdown",
   "id": "7de72d3a",
   "metadata": {},
   "source": [
    "### 1. Acquire data from the cloud database.\n",
    "\n",
    "You will want to end with a single dataframe. Include the logerror field and all other fields related to the properties that are available. You will end up using all the tables in the database.\n",
    "\n",
    "Be sure to do the correct join (inner, outer, etc.). We do not want to eliminate properties purely because they may have a null value for airconditioningtypeid. - Only include properties with a transaction in 2017, and include only the last transaction for each property (so no duplicate property ID's), along with zestimate error and date of transaction. (Hint: read the docs for the .duplicated method) - Only include properties that have a latitude and longitude value."
   ]
  },
  {
   "cell_type": "code",
   "execution_count": 2,
   "id": "f53d71e9",
   "metadata": {},
   "outputs": [],
   "source": [
    "sql = \"\"\"SELECT\n",
    "  *\n",
    "FROM properties_2017\n",
    "LEFT JOIN predictions_2017 AS pe USING (parcelid)\n",
    "LEFT JOIN architecturalstyletype AS arch USING (architecturalstyletypeid)\n",
    "LEFT JOIN propertylandusetype USING (propertylandusetypeid)\n",
    "LEFT JOIN airconditioningtype USING (airconditioningtypeid)\n",
    "LEFT JOIN typeconstructiontype USING (typeconstructiontypeid)\n",
    "LEFT JOIN storytype USING (storytypeid)\n",
    "LEFT JOIN unique_properties USING (parcelid)\n",
    "LEFT JOIN heatingorsystemtype USING (heatingorsystemtypeid)\n",
    "WHERE propertylandusetype.propertylandusedesc = 'Single Family Residential'\n",
    "AND pe.transactiondate LIKE '2017%%';\n",
    "    \n",
    "    \"\"\"\n",
    "\n",
    "df = pd.read_sql(sql, get_db_url(\"zillow\"));"
   ]
  },
  {
   "cell_type": "markdown",
   "id": "21c4ac1f",
   "metadata": {},
   "source": [
    "Summarize your data (summary stats, info, dtypes, shape, distributions, value_counts, etc.)"
   ]
  },
  {
   "cell_type": "code",
   "execution_count": 3,
   "id": "10d58416",
   "metadata": {},
   "outputs": [
    {
     "data": {
      "text/plain": [
       "Index(['heatingorsystemtypeid', 'parcelid', 'storytypeid',\n",
       "       'typeconstructiontypeid', 'airconditioningtypeid',\n",
       "       'propertylandusetypeid', 'architecturalstyletypeid', 'id',\n",
       "       'basementsqft', 'bathroomcnt', 'bedroomcnt', 'buildingclasstypeid',\n",
       "       'buildingqualitytypeid', 'calculatedbathnbr', 'decktypeid',\n",
       "       'finishedfloor1squarefeet', 'calculatedfinishedsquarefeet',\n",
       "       'finishedsquarefeet12', 'finishedsquarefeet13', 'finishedsquarefeet15',\n",
       "       'finishedsquarefeet50', 'finishedsquarefeet6', 'fips', 'fireplacecnt',\n",
       "       'fullbathcnt', 'garagecarcnt', 'garagetotalsqft', 'hashottuborspa',\n",
       "       'latitude', 'longitude', 'lotsizesquarefeet', 'poolcnt', 'poolsizesum',\n",
       "       'pooltypeid10', 'pooltypeid2', 'pooltypeid7',\n",
       "       'propertycountylandusecode', 'propertyzoningdesc',\n",
       "       'rawcensustractandblock', 'regionidcity', 'regionidcounty',\n",
       "       'regionidneighborhood', 'regionidzip', 'roomcnt', 'threequarterbathnbr',\n",
       "       'unitcnt', 'yardbuildingsqft17', 'yardbuildingsqft26', 'yearbuilt',\n",
       "       'numberofstories', 'fireplaceflag', 'structuretaxvaluedollarcnt',\n",
       "       'taxvaluedollarcnt', 'assessmentyear', 'landtaxvaluedollarcnt',\n",
       "       'taxamount', 'taxdelinquencyflag', 'taxdelinquencyyear',\n",
       "       'censustractandblock', 'id', 'logerror', 'transactiondate',\n",
       "       'architecturalstyledesc', 'propertylandusedesc', 'airconditioningdesc',\n",
       "       'typeconstructiondesc', 'storydesc', 'heatingorsystemdesc'],\n",
       "      dtype='object')"
      ]
     },
     "execution_count": 3,
     "metadata": {},
     "output_type": "execute_result"
    }
   ],
   "source": [
    "df.columns"
   ]
  },
  {
   "cell_type": "code",
   "execution_count": 4,
   "id": "c0d64c2c",
   "metadata": {},
   "outputs": [
    {
     "data": {
      "text/plain": [
       "11991059    3\n",
       "11957553    2\n",
       "12478591    2\n",
       "12035592    2\n",
       "12443331    2\n",
       "           ..\n",
       "11494547    1\n",
       "10976762    1\n",
       "12650619    1\n",
       "12650850    1\n",
       "12826780    1\n",
       "Name: parcelid, Length: 52320, dtype: int64"
      ]
     },
     "execution_count": 4,
     "metadata": {},
     "output_type": "execute_result"
    }
   ],
   "source": [
    "df.parcelid.value_counts()"
   ]
  },
  {
   "cell_type": "code",
   "execution_count": 5,
   "id": "45a39a57",
   "metadata": {},
   "outputs": [
    {
     "data": {
      "text/plain": [
       "(52441, 68)"
      ]
     },
     "execution_count": 5,
     "metadata": {},
     "output_type": "execute_result"
    }
   ],
   "source": [
    "df.shape"
   ]
  },
  {
   "cell_type": "code",
   "execution_count": 6,
   "id": "749f83ea",
   "metadata": {},
   "outputs": [
    {
     "data": {
      "text/html": [
       "<div>\n",
       "<style scoped>\n",
       "    .dataframe tbody tr th:only-of-type {\n",
       "        vertical-align: middle;\n",
       "    }\n",
       "\n",
       "    .dataframe tbody tr th {\n",
       "        vertical-align: top;\n",
       "    }\n",
       "\n",
       "    .dataframe thead th {\n",
       "        text-align: right;\n",
       "    }\n",
       "</style>\n",
       "<table border=\"1\" class=\"dataframe\">\n",
       "  <thead>\n",
       "    <tr style=\"text-align: right;\">\n",
       "      <th></th>\n",
       "      <th>heatingorsystemtypeid</th>\n",
       "      <th>parcelid</th>\n",
       "      <th>storytypeid</th>\n",
       "      <th>typeconstructiontypeid</th>\n",
       "      <th>airconditioningtypeid</th>\n",
       "      <th>propertylandusetypeid</th>\n",
       "      <th>architecturalstyletypeid</th>\n",
       "      <th>id</th>\n",
       "      <th>basementsqft</th>\n",
       "      <th>bathroomcnt</th>\n",
       "      <th>...</th>\n",
       "      <th>censustractandblock</th>\n",
       "      <th>id</th>\n",
       "      <th>logerror</th>\n",
       "      <th>transactiondate</th>\n",
       "      <th>architecturalstyledesc</th>\n",
       "      <th>propertylandusedesc</th>\n",
       "      <th>airconditioningdesc</th>\n",
       "      <th>typeconstructiondesc</th>\n",
       "      <th>storydesc</th>\n",
       "      <th>heatingorsystemdesc</th>\n",
       "    </tr>\n",
       "  </thead>\n",
       "  <tbody>\n",
       "    <tr>\n",
       "      <th>0</th>\n",
       "      <td>NaN</td>\n",
       "      <td>14297519</td>\n",
       "      <td>NaN</td>\n",
       "      <td>NaN</td>\n",
       "      <td>NaN</td>\n",
       "      <td>261.0</td>\n",
       "      <td>NaN</td>\n",
       "      <td>1727539</td>\n",
       "      <td>NaN</td>\n",
       "      <td>3.5</td>\n",
       "      <td>...</td>\n",
       "      <td>6.059063e+13</td>\n",
       "      <td>0</td>\n",
       "      <td>0.025595</td>\n",
       "      <td>2017-01-01</td>\n",
       "      <td>None</td>\n",
       "      <td>Single Family Residential</td>\n",
       "      <td>None</td>\n",
       "      <td>None</td>\n",
       "      <td>None</td>\n",
       "      <td>None</td>\n",
       "    </tr>\n",
       "    <tr>\n",
       "      <th>1</th>\n",
       "      <td>NaN</td>\n",
       "      <td>17052889</td>\n",
       "      <td>NaN</td>\n",
       "      <td>NaN</td>\n",
       "      <td>NaN</td>\n",
       "      <td>261.0</td>\n",
       "      <td>NaN</td>\n",
       "      <td>1387261</td>\n",
       "      <td>NaN</td>\n",
       "      <td>1.0</td>\n",
       "      <td>...</td>\n",
       "      <td>6.111001e+13</td>\n",
       "      <td>1</td>\n",
       "      <td>0.055619</td>\n",
       "      <td>2017-01-01</td>\n",
       "      <td>None</td>\n",
       "      <td>Single Family Residential</td>\n",
       "      <td>None</td>\n",
       "      <td>None</td>\n",
       "      <td>None</td>\n",
       "      <td>None</td>\n",
       "    </tr>\n",
       "    <tr>\n",
       "      <th>2</th>\n",
       "      <td>NaN</td>\n",
       "      <td>14186244</td>\n",
       "      <td>NaN</td>\n",
       "      <td>NaN</td>\n",
       "      <td>NaN</td>\n",
       "      <td>261.0</td>\n",
       "      <td>NaN</td>\n",
       "      <td>11677</td>\n",
       "      <td>NaN</td>\n",
       "      <td>2.0</td>\n",
       "      <td>...</td>\n",
       "      <td>6.059022e+13</td>\n",
       "      <td>2</td>\n",
       "      <td>0.005383</td>\n",
       "      <td>2017-01-01</td>\n",
       "      <td>None</td>\n",
       "      <td>Single Family Residential</td>\n",
       "      <td>None</td>\n",
       "      <td>None</td>\n",
       "      <td>None</td>\n",
       "      <td>None</td>\n",
       "    </tr>\n",
       "    <tr>\n",
       "      <th>3</th>\n",
       "      <td>2.0</td>\n",
       "      <td>12177905</td>\n",
       "      <td>NaN</td>\n",
       "      <td>NaN</td>\n",
       "      <td>NaN</td>\n",
       "      <td>261.0</td>\n",
       "      <td>NaN</td>\n",
       "      <td>2288172</td>\n",
       "      <td>NaN</td>\n",
       "      <td>3.0</td>\n",
       "      <td>...</td>\n",
       "      <td>6.037300e+13</td>\n",
       "      <td>3</td>\n",
       "      <td>-0.103410</td>\n",
       "      <td>2017-01-01</td>\n",
       "      <td>None</td>\n",
       "      <td>Single Family Residential</td>\n",
       "      <td>None</td>\n",
       "      <td>None</td>\n",
       "      <td>None</td>\n",
       "      <td>Central</td>\n",
       "    </tr>\n",
       "    <tr>\n",
       "      <th>4</th>\n",
       "      <td>2.0</td>\n",
       "      <td>12095076</td>\n",
       "      <td>NaN</td>\n",
       "      <td>NaN</td>\n",
       "      <td>1.0</td>\n",
       "      <td>261.0</td>\n",
       "      <td>NaN</td>\n",
       "      <td>781532</td>\n",
       "      <td>NaN</td>\n",
       "      <td>3.0</td>\n",
       "      <td>...</td>\n",
       "      <td>6.037461e+13</td>\n",
       "      <td>6</td>\n",
       "      <td>-0.001011</td>\n",
       "      <td>2017-01-01</td>\n",
       "      <td>None</td>\n",
       "      <td>Single Family Residential</td>\n",
       "      <td>Central</td>\n",
       "      <td>None</td>\n",
       "      <td>None</td>\n",
       "      <td>Central</td>\n",
       "    </tr>\n",
       "  </tbody>\n",
       "</table>\n",
       "<p>5 rows × 68 columns</p>\n",
       "</div>"
      ],
      "text/plain": [
       "   heatingorsystemtypeid  parcelid  storytypeid  typeconstructiontypeid  \\\n",
       "0                    NaN  14297519          NaN                     NaN   \n",
       "1                    NaN  17052889          NaN                     NaN   \n",
       "2                    NaN  14186244          NaN                     NaN   \n",
       "3                    2.0  12177905          NaN                     NaN   \n",
       "4                    2.0  12095076          NaN                     NaN   \n",
       "\n",
       "   airconditioningtypeid  propertylandusetypeid  architecturalstyletypeid  \\\n",
       "0                    NaN                  261.0                       NaN   \n",
       "1                    NaN                  261.0                       NaN   \n",
       "2                    NaN                  261.0                       NaN   \n",
       "3                    NaN                  261.0                       NaN   \n",
       "4                    1.0                  261.0                       NaN   \n",
       "\n",
       "        id  basementsqft  bathroomcnt  ...  censustractandblock id  logerror  \\\n",
       "0  1727539           NaN          3.5  ...         6.059063e+13  0  0.025595   \n",
       "1  1387261           NaN          1.0  ...         6.111001e+13  1  0.055619   \n",
       "2    11677           NaN          2.0  ...         6.059022e+13  2  0.005383   \n",
       "3  2288172           NaN          3.0  ...         6.037300e+13  3 -0.103410   \n",
       "4   781532           NaN          3.0  ...         6.037461e+13  6 -0.001011   \n",
       "\n",
       "   transactiondate  architecturalstyledesc        propertylandusedesc  \\\n",
       "0       2017-01-01                    None  Single Family Residential   \n",
       "1       2017-01-01                    None  Single Family Residential   \n",
       "2       2017-01-01                    None  Single Family Residential   \n",
       "3       2017-01-01                    None  Single Family Residential   \n",
       "4       2017-01-01                    None  Single Family Residential   \n",
       "\n",
       "   airconditioningdesc  typeconstructiondesc storydesc heatingorsystemdesc  \n",
       "0                 None                  None      None                None  \n",
       "1                 None                  None      None                None  \n",
       "2                 None                  None      None                None  \n",
       "3                 None                  None      None             Central  \n",
       "4              Central                  None      None             Central  \n",
       "\n",
       "[5 rows x 68 columns]"
      ]
     },
     "execution_count": 6,
     "metadata": {},
     "output_type": "execute_result"
    }
   ],
   "source": [
    "df.head(5)"
   ]
  },
  {
   "cell_type": "markdown",
   "id": "79599c6f",
   "metadata": {},
   "source": [
    "3. Write a function that takes in a dataframe of observations and attributes and returns a dataframe where each row is an atttribute name, the first column is the number of rows with missing values for that attribute, and the second column is percent of total rows that have missing values for that attribute. Run the function and document takeaways from this on how you want to handle missing values."
   ]
  },
  {
   "cell_type": "code",
   "execution_count": 7,
   "id": "473df6b7",
   "metadata": {},
   "outputs": [
    {
     "data": {
      "text/plain": [
       "heatingorsystemtypeid     18506\n",
       "parcelid                      0\n",
       "storytypeid               52394\n",
       "typeconstructiontypeid    52365\n",
       "airconditioningtypeid     38803\n",
       "                          ...  \n",
       "propertylandusedesc           0\n",
       "airconditioningdesc       38803\n",
       "typeconstructiondesc      52365\n",
       "storydesc                 52394\n",
       "heatingorsystemdesc       18506\n",
       "Length: 68, dtype: int64"
      ]
     },
     "execution_count": 7,
     "metadata": {},
     "output_type": "execute_result"
    }
   ],
   "source": [
    "#checking for nulls\n",
    "df.isnull().sum()"
   ]
  },
  {
   "cell_type": "code",
   "execution_count": 8,
   "id": "7a500cd0",
   "metadata": {},
   "outputs": [
    {
     "data": {
      "text/html": [
       "<div>\n",
       "<style scoped>\n",
       "    .dataframe tbody tr th:only-of-type {\n",
       "        vertical-align: middle;\n",
       "    }\n",
       "\n",
       "    .dataframe tbody tr th {\n",
       "        vertical-align: top;\n",
       "    }\n",
       "\n",
       "    .dataframe thead th {\n",
       "        text-align: right;\n",
       "    }\n",
       "</style>\n",
       "<table border=\"1\" class=\"dataframe\">\n",
       "  <thead>\n",
       "    <tr style=\"text-align: right;\">\n",
       "      <th></th>\n",
       "      <th>heatingorsystemtypeid</th>\n",
       "      <th>parcelid</th>\n",
       "      <th>storytypeid</th>\n",
       "      <th>typeconstructiontypeid</th>\n",
       "      <th>airconditioningtypeid</th>\n",
       "      <th>propertylandusetypeid</th>\n",
       "      <th>architecturalstyletypeid</th>\n",
       "      <th>id</th>\n",
       "      <th>basementsqft</th>\n",
       "      <th>bathroomcnt</th>\n",
       "      <th>...</th>\n",
       "      <th>censustractandblock</th>\n",
       "      <th>id</th>\n",
       "      <th>logerror</th>\n",
       "      <th>transactiondate</th>\n",
       "      <th>architecturalstyledesc</th>\n",
       "      <th>propertylandusedesc</th>\n",
       "      <th>airconditioningdesc</th>\n",
       "      <th>typeconstructiondesc</th>\n",
       "      <th>storydesc</th>\n",
       "      <th>heatingorsystemdesc</th>\n",
       "    </tr>\n",
       "  </thead>\n",
       "  <tbody>\n",
       "    <tr>\n",
       "      <th>0</th>\n",
       "      <td>NaN</td>\n",
       "      <td>14297519</td>\n",
       "      <td>NaN</td>\n",
       "      <td>NaN</td>\n",
       "      <td>NaN</td>\n",
       "      <td>261.0</td>\n",
       "      <td>NaN</td>\n",
       "      <td>1727539</td>\n",
       "      <td>NaN</td>\n",
       "      <td>3.5</td>\n",
       "      <td>...</td>\n",
       "      <td>6.059063e+13</td>\n",
       "      <td>0</td>\n",
       "      <td>0.025595</td>\n",
       "      <td>2017-01-01</td>\n",
       "      <td>None</td>\n",
       "      <td>Single Family Residential</td>\n",
       "      <td>None</td>\n",
       "      <td>None</td>\n",
       "      <td>None</td>\n",
       "      <td>None</td>\n",
       "    </tr>\n",
       "    <tr>\n",
       "      <th>1</th>\n",
       "      <td>NaN</td>\n",
       "      <td>17052889</td>\n",
       "      <td>NaN</td>\n",
       "      <td>NaN</td>\n",
       "      <td>NaN</td>\n",
       "      <td>261.0</td>\n",
       "      <td>NaN</td>\n",
       "      <td>1387261</td>\n",
       "      <td>NaN</td>\n",
       "      <td>1.0</td>\n",
       "      <td>...</td>\n",
       "      <td>6.111001e+13</td>\n",
       "      <td>1</td>\n",
       "      <td>0.055619</td>\n",
       "      <td>2017-01-01</td>\n",
       "      <td>None</td>\n",
       "      <td>Single Family Residential</td>\n",
       "      <td>None</td>\n",
       "      <td>None</td>\n",
       "      <td>None</td>\n",
       "      <td>None</td>\n",
       "    </tr>\n",
       "    <tr>\n",
       "      <th>2</th>\n",
       "      <td>NaN</td>\n",
       "      <td>14186244</td>\n",
       "      <td>NaN</td>\n",
       "      <td>NaN</td>\n",
       "      <td>NaN</td>\n",
       "      <td>261.0</td>\n",
       "      <td>NaN</td>\n",
       "      <td>11677</td>\n",
       "      <td>NaN</td>\n",
       "      <td>2.0</td>\n",
       "      <td>...</td>\n",
       "      <td>6.059022e+13</td>\n",
       "      <td>2</td>\n",
       "      <td>0.005383</td>\n",
       "      <td>2017-01-01</td>\n",
       "      <td>None</td>\n",
       "      <td>Single Family Residential</td>\n",
       "      <td>None</td>\n",
       "      <td>None</td>\n",
       "      <td>None</td>\n",
       "      <td>None</td>\n",
       "    </tr>\n",
       "    <tr>\n",
       "      <th>3</th>\n",
       "      <td>2.0</td>\n",
       "      <td>12177905</td>\n",
       "      <td>NaN</td>\n",
       "      <td>NaN</td>\n",
       "      <td>NaN</td>\n",
       "      <td>261.0</td>\n",
       "      <td>NaN</td>\n",
       "      <td>2288172</td>\n",
       "      <td>NaN</td>\n",
       "      <td>3.0</td>\n",
       "      <td>...</td>\n",
       "      <td>6.037300e+13</td>\n",
       "      <td>3</td>\n",
       "      <td>-0.103410</td>\n",
       "      <td>2017-01-01</td>\n",
       "      <td>None</td>\n",
       "      <td>Single Family Residential</td>\n",
       "      <td>None</td>\n",
       "      <td>None</td>\n",
       "      <td>None</td>\n",
       "      <td>Central</td>\n",
       "    </tr>\n",
       "    <tr>\n",
       "      <th>4</th>\n",
       "      <td>2.0</td>\n",
       "      <td>12095076</td>\n",
       "      <td>NaN</td>\n",
       "      <td>NaN</td>\n",
       "      <td>1.0</td>\n",
       "      <td>261.0</td>\n",
       "      <td>NaN</td>\n",
       "      <td>781532</td>\n",
       "      <td>NaN</td>\n",
       "      <td>3.0</td>\n",
       "      <td>...</td>\n",
       "      <td>6.037461e+13</td>\n",
       "      <td>6</td>\n",
       "      <td>-0.001011</td>\n",
       "      <td>2017-01-01</td>\n",
       "      <td>None</td>\n",
       "      <td>Single Family Residential</td>\n",
       "      <td>Central</td>\n",
       "      <td>None</td>\n",
       "      <td>None</td>\n",
       "      <td>Central</td>\n",
       "    </tr>\n",
       "  </tbody>\n",
       "</table>\n",
       "<p>5 rows × 68 columns</p>\n",
       "</div>"
      ],
      "text/plain": [
       "   heatingorsystemtypeid  parcelid  storytypeid  typeconstructiontypeid  \\\n",
       "0                    NaN  14297519          NaN                     NaN   \n",
       "1                    NaN  17052889          NaN                     NaN   \n",
       "2                    NaN  14186244          NaN                     NaN   \n",
       "3                    2.0  12177905          NaN                     NaN   \n",
       "4                    2.0  12095076          NaN                     NaN   \n",
       "\n",
       "   airconditioningtypeid  propertylandusetypeid  architecturalstyletypeid  \\\n",
       "0                    NaN                  261.0                       NaN   \n",
       "1                    NaN                  261.0                       NaN   \n",
       "2                    NaN                  261.0                       NaN   \n",
       "3                    NaN                  261.0                       NaN   \n",
       "4                    1.0                  261.0                       NaN   \n",
       "\n",
       "        id  basementsqft  bathroomcnt  ...  censustractandblock id  logerror  \\\n",
       "0  1727539           NaN          3.5  ...         6.059063e+13  0  0.025595   \n",
       "1  1387261           NaN          1.0  ...         6.111001e+13  1  0.055619   \n",
       "2    11677           NaN          2.0  ...         6.059022e+13  2  0.005383   \n",
       "3  2288172           NaN          3.0  ...         6.037300e+13  3 -0.103410   \n",
       "4   781532           NaN          3.0  ...         6.037461e+13  6 -0.001011   \n",
       "\n",
       "   transactiondate  architecturalstyledesc        propertylandusedesc  \\\n",
       "0       2017-01-01                    None  Single Family Residential   \n",
       "1       2017-01-01                    None  Single Family Residential   \n",
       "2       2017-01-01                    None  Single Family Residential   \n",
       "3       2017-01-01                    None  Single Family Residential   \n",
       "4       2017-01-01                    None  Single Family Residential   \n",
       "\n",
       "   airconditioningdesc  typeconstructiondesc storydesc heatingorsystemdesc  \n",
       "0                 None                  None      None                None  \n",
       "1                 None                  None      None                None  \n",
       "2                 None                  None      None                None  \n",
       "3                 None                  None      None             Central  \n",
       "4              Central                  None      None             Central  \n",
       "\n",
       "[5 rows x 68 columns]"
      ]
     },
     "execution_count": 8,
     "metadata": {},
     "output_type": "execute_result"
    }
   ],
   "source": [
    "#turning dataset horizontally for easier reading and making a copy for a new df that will show nulls count and % of nulls\n",
    "df_nulls = df.copy().T\n",
    "\n",
    "df.head()"
   ]
  },
  {
   "cell_type": "code",
   "execution_count": 9,
   "id": "7ef98b99",
   "metadata": {},
   "outputs": [],
   "source": [
    "#creating a column that counts all the nulls\n",
    "df_nulls['num_rows_missing']= df_nulls.count(axis=1)"
   ]
  },
  {
   "cell_type": "code",
   "execution_count": 10,
   "id": "b251e379",
   "metadata": {},
   "outputs": [],
   "source": [
    "#creating a column that finds what % the nulls are based on dataset count\n",
    "df_nulls['pct_rows_missing']= round(df_nulls.count(axis=1)* 100 / len(df_nulls))"
   ]
  },
  {
   "cell_type": "code",
   "execution_count": 11,
   "id": "a1de16e2",
   "metadata": {},
   "outputs": [
    {
     "data": {
      "text/html": [
       "<div>\n",
       "<style scoped>\n",
       "    .dataframe tbody tr th:only-of-type {\n",
       "        vertical-align: middle;\n",
       "    }\n",
       "\n",
       "    .dataframe tbody tr th {\n",
       "        vertical-align: top;\n",
       "    }\n",
       "\n",
       "    .dataframe thead th {\n",
       "        text-align: right;\n",
       "    }\n",
       "</style>\n",
       "<table border=\"1\" class=\"dataframe\">\n",
       "  <thead>\n",
       "    <tr style=\"text-align: right;\">\n",
       "      <th></th>\n",
       "      <th>0</th>\n",
       "      <th>1</th>\n",
       "      <th>2</th>\n",
       "      <th>3</th>\n",
       "      <th>4</th>\n",
       "      <th>5</th>\n",
       "      <th>6</th>\n",
       "      <th>7</th>\n",
       "      <th>8</th>\n",
       "      <th>9</th>\n",
       "      <th>...</th>\n",
       "      <th>52433</th>\n",
       "      <th>52434</th>\n",
       "      <th>52435</th>\n",
       "      <th>52436</th>\n",
       "      <th>52437</th>\n",
       "      <th>52438</th>\n",
       "      <th>52439</th>\n",
       "      <th>52440</th>\n",
       "      <th>num_rows_missing</th>\n",
       "      <th>pct_rows_missing</th>\n",
       "    </tr>\n",
       "  </thead>\n",
       "  <tbody>\n",
       "    <tr>\n",
       "      <th>heatingorsystemtypeid</th>\n",
       "      <td>NaN</td>\n",
       "      <td>NaN</td>\n",
       "      <td>NaN</td>\n",
       "      <td>2.0</td>\n",
       "      <td>2.0</td>\n",
       "      <td>NaN</td>\n",
       "      <td>2.0</td>\n",
       "      <td>2.0</td>\n",
       "      <td>NaN</td>\n",
       "      <td>NaN</td>\n",
       "      <td>...</td>\n",
       "      <td>NaN</td>\n",
       "      <td>2.0</td>\n",
       "      <td>2.0</td>\n",
       "      <td>2.0</td>\n",
       "      <td>2.0</td>\n",
       "      <td>NaN</td>\n",
       "      <td>2.0</td>\n",
       "      <td>2.0</td>\n",
       "      <td>33935</td>\n",
       "      <td>49906.0</td>\n",
       "    </tr>\n",
       "    <tr>\n",
       "      <th>parcelid</th>\n",
       "      <td>14297519</td>\n",
       "      <td>17052889</td>\n",
       "      <td>14186244</td>\n",
       "      <td>12177905</td>\n",
       "      <td>12095076</td>\n",
       "      <td>12069064</td>\n",
       "      <td>12790562</td>\n",
       "      <td>11104527</td>\n",
       "      <td>13944538</td>\n",
       "      <td>17110996</td>\n",
       "      <td>...</td>\n",
       "      <td>12055795</td>\n",
       "      <td>12892446</td>\n",
       "      <td>10722691</td>\n",
       "      <td>12412492</td>\n",
       "      <td>11000655</td>\n",
       "      <td>17239384</td>\n",
       "      <td>12773139</td>\n",
       "      <td>12826780</td>\n",
       "      <td>52441</td>\n",
       "      <td>77121.0</td>\n",
       "    </tr>\n",
       "    <tr>\n",
       "      <th>storytypeid</th>\n",
       "      <td>NaN</td>\n",
       "      <td>NaN</td>\n",
       "      <td>NaN</td>\n",
       "      <td>NaN</td>\n",
       "      <td>NaN</td>\n",
       "      <td>NaN</td>\n",
       "      <td>NaN</td>\n",
       "      <td>NaN</td>\n",
       "      <td>NaN</td>\n",
       "      <td>NaN</td>\n",
       "      <td>...</td>\n",
       "      <td>NaN</td>\n",
       "      <td>NaN</td>\n",
       "      <td>NaN</td>\n",
       "      <td>NaN</td>\n",
       "      <td>NaN</td>\n",
       "      <td>NaN</td>\n",
       "      <td>NaN</td>\n",
       "      <td>NaN</td>\n",
       "      <td>47</td>\n",
       "      <td>71.0</td>\n",
       "    </tr>\n",
       "    <tr>\n",
       "      <th>typeconstructiontypeid</th>\n",
       "      <td>NaN</td>\n",
       "      <td>NaN</td>\n",
       "      <td>NaN</td>\n",
       "      <td>NaN</td>\n",
       "      <td>NaN</td>\n",
       "      <td>NaN</td>\n",
       "      <td>NaN</td>\n",
       "      <td>NaN</td>\n",
       "      <td>NaN</td>\n",
       "      <td>NaN</td>\n",
       "      <td>...</td>\n",
       "      <td>NaN</td>\n",
       "      <td>NaN</td>\n",
       "      <td>NaN</td>\n",
       "      <td>NaN</td>\n",
       "      <td>NaN</td>\n",
       "      <td>NaN</td>\n",
       "      <td>NaN</td>\n",
       "      <td>NaN</td>\n",
       "      <td>76</td>\n",
       "      <td>113.0</td>\n",
       "    </tr>\n",
       "    <tr>\n",
       "      <th>airconditioningtypeid</th>\n",
       "      <td>NaN</td>\n",
       "      <td>NaN</td>\n",
       "      <td>NaN</td>\n",
       "      <td>NaN</td>\n",
       "      <td>1.0</td>\n",
       "      <td>NaN</td>\n",
       "      <td>NaN</td>\n",
       "      <td>1.0</td>\n",
       "      <td>13.0</td>\n",
       "      <td>NaN</td>\n",
       "      <td>...</td>\n",
       "      <td>NaN</td>\n",
       "      <td>NaN</td>\n",
       "      <td>1.0</td>\n",
       "      <td>NaN</td>\n",
       "      <td>NaN</td>\n",
       "      <td>NaN</td>\n",
       "      <td>1.0</td>\n",
       "      <td>NaN</td>\n",
       "      <td>13638</td>\n",
       "      <td>20057.0</td>\n",
       "    </tr>\n",
       "    <tr>\n",
       "      <th>propertylandusetypeid</th>\n",
       "      <td>261.0</td>\n",
       "      <td>261.0</td>\n",
       "      <td>261.0</td>\n",
       "      <td>261.0</td>\n",
       "      <td>261.0</td>\n",
       "      <td>261.0</td>\n",
       "      <td>261.0</td>\n",
       "      <td>261.0</td>\n",
       "      <td>261.0</td>\n",
       "      <td>261.0</td>\n",
       "      <td>...</td>\n",
       "      <td>261.0</td>\n",
       "      <td>261.0</td>\n",
       "      <td>261.0</td>\n",
       "      <td>261.0</td>\n",
       "      <td>261.0</td>\n",
       "      <td>261.0</td>\n",
       "      <td>261.0</td>\n",
       "      <td>261.0</td>\n",
       "      <td>52441</td>\n",
       "      <td>77121.0</td>\n",
       "    </tr>\n",
       "    <tr>\n",
       "      <th>architecturalstyletypeid</th>\n",
       "      <td>NaN</td>\n",
       "      <td>NaN</td>\n",
       "      <td>NaN</td>\n",
       "      <td>NaN</td>\n",
       "      <td>NaN</td>\n",
       "      <td>NaN</td>\n",
       "      <td>NaN</td>\n",
       "      <td>NaN</td>\n",
       "      <td>NaN</td>\n",
       "      <td>NaN</td>\n",
       "      <td>...</td>\n",
       "      <td>NaN</td>\n",
       "      <td>NaN</td>\n",
       "      <td>NaN</td>\n",
       "      <td>NaN</td>\n",
       "      <td>NaN</td>\n",
       "      <td>NaN</td>\n",
       "      <td>NaN</td>\n",
       "      <td>NaN</td>\n",
       "      <td>70</td>\n",
       "      <td>104.0</td>\n",
       "    </tr>\n",
       "    <tr>\n",
       "      <th>id</th>\n",
       "      <td>1727539</td>\n",
       "      <td>1387261</td>\n",
       "      <td>11677</td>\n",
       "      <td>2288172</td>\n",
       "      <td>781532</td>\n",
       "      <td>870991</td>\n",
       "      <td>1246926</td>\n",
       "      <td>1639362</td>\n",
       "      <td>249412</td>\n",
       "      <td>43675</td>\n",
       "      <td>...</td>\n",
       "      <td>80446</td>\n",
       "      <td>1635173</td>\n",
       "      <td>1373391</td>\n",
       "      <td>2274245</td>\n",
       "      <td>673515</td>\n",
       "      <td>2968375</td>\n",
       "      <td>1843709</td>\n",
       "      <td>1187175</td>\n",
       "      <td>52441</td>\n",
       "      <td>77121.0</td>\n",
       "    </tr>\n",
       "    <tr>\n",
       "      <th>basementsqft</th>\n",
       "      <td>NaN</td>\n",
       "      <td>NaN</td>\n",
       "      <td>NaN</td>\n",
       "      <td>NaN</td>\n",
       "      <td>NaN</td>\n",
       "      <td>NaN</td>\n",
       "      <td>NaN</td>\n",
       "      <td>NaN</td>\n",
       "      <td>NaN</td>\n",
       "      <td>NaN</td>\n",
       "      <td>...</td>\n",
       "      <td>NaN</td>\n",
       "      <td>NaN</td>\n",
       "      <td>NaN</td>\n",
       "      <td>NaN</td>\n",
       "      <td>NaN</td>\n",
       "      <td>NaN</td>\n",
       "      <td>NaN</td>\n",
       "      <td>NaN</td>\n",
       "      <td>47</td>\n",
       "      <td>71.0</td>\n",
       "    </tr>\n",
       "    <tr>\n",
       "      <th>bathroomcnt</th>\n",
       "      <td>3.5</td>\n",
       "      <td>1.0</td>\n",
       "      <td>2.0</td>\n",
       "      <td>3.0</td>\n",
       "      <td>3.0</td>\n",
       "      <td>1.0</td>\n",
       "      <td>3.0</td>\n",
       "      <td>3.0</td>\n",
       "      <td>2.5</td>\n",
       "      <td>2.5</td>\n",
       "      <td>...</td>\n",
       "      <td>1.0</td>\n",
       "      <td>3.0</td>\n",
       "      <td>2.0</td>\n",
       "      <td>2.0</td>\n",
       "      <td>2.0</td>\n",
       "      <td>2.0</td>\n",
       "      <td>1.0</td>\n",
       "      <td>2.0</td>\n",
       "      <td>52441</td>\n",
       "      <td>77121.0</td>\n",
       "    </tr>\n",
       "  </tbody>\n",
       "</table>\n",
       "<p>10 rows × 52443 columns</p>\n",
       "</div>"
      ],
      "text/plain": [
       "                                 0         1         2         3         4  \\\n",
       "heatingorsystemtypeid          NaN       NaN       NaN       2.0       2.0   \n",
       "parcelid                  14297519  17052889  14186244  12177905  12095076   \n",
       "storytypeid                    NaN       NaN       NaN       NaN       NaN   \n",
       "typeconstructiontypeid         NaN       NaN       NaN       NaN       NaN   \n",
       "airconditioningtypeid          NaN       NaN       NaN       NaN       1.0   \n",
       "propertylandusetypeid        261.0     261.0     261.0     261.0     261.0   \n",
       "architecturalstyletypeid       NaN       NaN       NaN       NaN       NaN   \n",
       "id                         1727539   1387261     11677   2288172    781532   \n",
       "basementsqft                   NaN       NaN       NaN       NaN       NaN   \n",
       "bathroomcnt                    3.5       1.0       2.0       3.0       3.0   \n",
       "\n",
       "                                 5         6         7         8         9  \\\n",
       "heatingorsystemtypeid          NaN       2.0       2.0       NaN       NaN   \n",
       "parcelid                  12069064  12790562  11104527  13944538  17110996   \n",
       "storytypeid                    NaN       NaN       NaN       NaN       NaN   \n",
       "typeconstructiontypeid         NaN       NaN       NaN       NaN       NaN   \n",
       "airconditioningtypeid          NaN       NaN       1.0      13.0       NaN   \n",
       "propertylandusetypeid        261.0     261.0     261.0     261.0     261.0   \n",
       "architecturalstyletypeid       NaN       NaN       NaN       NaN       NaN   \n",
       "id                          870991   1246926   1639362    249412     43675   \n",
       "basementsqft                   NaN       NaN       NaN       NaN       NaN   \n",
       "bathroomcnt                    1.0       3.0       3.0       2.5       2.5   \n",
       "\n",
       "                          ...     52433     52434     52435     52436  \\\n",
       "heatingorsystemtypeid     ...       NaN       2.0       2.0       2.0   \n",
       "parcelid                  ...  12055795  12892446  10722691  12412492   \n",
       "storytypeid               ...       NaN       NaN       NaN       NaN   \n",
       "typeconstructiontypeid    ...       NaN       NaN       NaN       NaN   \n",
       "airconditioningtypeid     ...       NaN       NaN       1.0       NaN   \n",
       "propertylandusetypeid     ...     261.0     261.0     261.0     261.0   \n",
       "architecturalstyletypeid  ...       NaN       NaN       NaN       NaN   \n",
       "id                        ...     80446   1635173   1373391   2274245   \n",
       "basementsqft              ...       NaN       NaN       NaN       NaN   \n",
       "bathroomcnt               ...       1.0       3.0       2.0       2.0   \n",
       "\n",
       "                             52437     52438     52439     52440  \\\n",
       "heatingorsystemtypeid          2.0       NaN       2.0       2.0   \n",
       "parcelid                  11000655  17239384  12773139  12826780   \n",
       "storytypeid                    NaN       NaN       NaN       NaN   \n",
       "typeconstructiontypeid         NaN       NaN       NaN       NaN   \n",
       "airconditioningtypeid          NaN       NaN       1.0       NaN   \n",
       "propertylandusetypeid        261.0     261.0     261.0     261.0   \n",
       "architecturalstyletypeid       NaN       NaN       NaN       NaN   \n",
       "id                          673515   2968375   1843709   1187175   \n",
       "basementsqft                   NaN       NaN       NaN       NaN   \n",
       "bathroomcnt                    2.0       2.0       1.0       2.0   \n",
       "\n",
       "                         num_rows_missing pct_rows_missing  \n",
       "heatingorsystemtypeid               33935          49906.0  \n",
       "parcelid                            52441          77121.0  \n",
       "storytypeid                            47             71.0  \n",
       "typeconstructiontypeid                 76            113.0  \n",
       "airconditioningtypeid               13638          20057.0  \n",
       "propertylandusetypeid               52441          77121.0  \n",
       "architecturalstyletypeid               70            104.0  \n",
       "id                                  52441          77121.0  \n",
       "basementsqft                           47             71.0  \n",
       "bathroomcnt                         52441          77121.0  \n",
       "\n",
       "[10 rows x 52443 columns]"
      ]
     },
     "execution_count": 11,
     "metadata": {},
     "output_type": "execute_result"
    }
   ],
   "source": [
    "df_nulls.head(10)"
   ]
  },
  {
   "cell_type": "code",
   "execution_count": 12,
   "id": "3bb1c177",
   "metadata": {},
   "outputs": [],
   "source": [
    "#Creating the function that applies these two columns above:\n",
    "\n",
    "def missing_values():\n",
    "    #creating a column that counts all the nulls\n",
    "    df_nulls['num_rows_missing']= df_nulls.count(axis=1)\n",
    "    #creating a column that finds what % the nulls are based on dataset count\n",
    "    df_nulls['pct_rows_missing']= round(df_nulls.count(axis=1)* 100 / len(df_nulls))\n",
    "    \n",
    "    return df_nulls"
   ]
  },
  {
   "cell_type": "markdown",
   "id": "f86c04ec",
   "metadata": {},
   "source": [
    "## Prepare\n",
    "\n",
    "1. Remove any properties that are likely to be something other than single unit properties. (e.g. no duplexes, no land/lot, ...). There are multiple ways to estimate that a property is a single unit, and there is not a single \"right\" answer."
   ]
  },
  {
   "cell_type": "code",
   "execution_count": 13,
   "id": "12aa98d4",
   "metadata": {},
   "outputs": [
    {
     "data": {
      "text/plain": [
       "array(['Single Family Residential'], dtype=object)"
      ]
     },
     "execution_count": 13,
     "metadata": {},
     "output_type": "execute_result"
    }
   ],
   "source": [
    "#already brought in single family units\n",
    "df.propertylandusedesc.unique()"
   ]
  },
  {
   "cell_type": "markdown",
   "id": "0b4d9917",
   "metadata": {},
   "source": [
    "Create a function that will drop rows or columns based on the percent of values that are missing: handle_missing_values(df, prop_required_column, prop_required_row).\n",
    "\n",
    "The input:\n",
    "A dataframe\n",
    "A number between 0 and 1 that represents the proportion, for each column, of rows with non-missing values required to keep the column. i.e. if prop_required_column = .6, then you are requiring a column to have at least 60% of values not-NA (no more than 40% missing).\n",
    "A number between 0 and 1 that represents the proportion, for each row, of columns/variables with non-missing values required to keep the row. For example, if prop_required_row = .75, then you are requiring a row to have at least 75% of variables with a non-missing value (no more that 25% missing).\n",
    "The output:\n",
    "The dataframe with the columns and rows dropped as indicated. Be sure to drop the columns prior to the rows in your function.\n",
    "hint:\n",
    "Look up the dropna documentation.\n",
    "You will want to compute a threshold from your input values (prop_required) and total number of rows or columns."
   ]
  },
  {
   "cell_type": "code",
   "execution_count": 14,
   "id": "f7889196",
   "metadata": {},
   "outputs": [],
   "source": [
    "def handle_missing_values(df, prop_required_column = .67, prop_required_row = .75):\n",
    "    threshold = int(round(prop_required_column*len(df.index),0))\n",
    "    df.dropna(axis=1, thresh=threshold, inplace=True)\n",
    "    threshold = int(round(prop_required_row*len(df.columns),0))\n",
    "    df.dropna(axis=0, thresh=threshold, inplace=True)\n",
    "    return df"
   ]
  },
  {
   "cell_type": "code",
   "execution_count": 15,
   "id": "0610654c",
   "metadata": {},
   "outputs": [
    {
     "data": {
      "text/plain": [
       "(52439, 30)"
      ]
     },
     "execution_count": 15,
     "metadata": {},
     "output_type": "execute_result"
    }
   ],
   "source": [
    "zillow = handle_missing_values(df)\n",
    "zillow.shape"
   ]
  },
  {
   "cell_type": "markdown",
   "id": "28acd153",
   "metadata": {},
   "source": [
    "## Mall Customers"
   ]
  },
  {
   "cell_type": "markdown",
   "id": "adae26b4",
   "metadata": {},
   "source": [
    "1. Acquire data from the customers table in the mall_customers database."
   ]
  },
  {
   "cell_type": "code",
   "execution_count": 17,
   "id": "15f5cb9a",
   "metadata": {},
   "outputs": [],
   "source": [
    "query = '''\n",
    "SELECT * \n",
    "FROM customers;\n",
    "'''\n",
    "url = get_db_url('mall_customers')\n",
    "df = pd.read_sql(query, url)"
   ]
  },
  {
   "cell_type": "code",
   "execution_count": 18,
   "id": "385ba67c",
   "metadata": {},
   "outputs": [
    {
     "data": {
      "text/html": [
       "<div>\n",
       "<style scoped>\n",
       "    .dataframe tbody tr th:only-of-type {\n",
       "        vertical-align: middle;\n",
       "    }\n",
       "\n",
       "    .dataframe tbody tr th {\n",
       "        vertical-align: top;\n",
       "    }\n",
       "\n",
       "    .dataframe thead th {\n",
       "        text-align: right;\n",
       "    }\n",
       "</style>\n",
       "<table border=\"1\" class=\"dataframe\">\n",
       "  <thead>\n",
       "    <tr style=\"text-align: right;\">\n",
       "      <th></th>\n",
       "      <th>customer_id</th>\n",
       "      <th>gender</th>\n",
       "      <th>age</th>\n",
       "      <th>annual_income</th>\n",
       "      <th>spending_score</th>\n",
       "    </tr>\n",
       "  </thead>\n",
       "  <tbody>\n",
       "    <tr>\n",
       "      <th>0</th>\n",
       "      <td>1</td>\n",
       "      <td>Male</td>\n",
       "      <td>19</td>\n",
       "      <td>15</td>\n",
       "      <td>39</td>\n",
       "    </tr>\n",
       "    <tr>\n",
       "      <th>1</th>\n",
       "      <td>2</td>\n",
       "      <td>Male</td>\n",
       "      <td>21</td>\n",
       "      <td>15</td>\n",
       "      <td>81</td>\n",
       "    </tr>\n",
       "    <tr>\n",
       "      <th>2</th>\n",
       "      <td>3</td>\n",
       "      <td>Female</td>\n",
       "      <td>20</td>\n",
       "      <td>16</td>\n",
       "      <td>6</td>\n",
       "    </tr>\n",
       "    <tr>\n",
       "      <th>3</th>\n",
       "      <td>4</td>\n",
       "      <td>Female</td>\n",
       "      <td>23</td>\n",
       "      <td>16</td>\n",
       "      <td>77</td>\n",
       "    </tr>\n",
       "    <tr>\n",
       "      <th>4</th>\n",
       "      <td>5</td>\n",
       "      <td>Female</td>\n",
       "      <td>31</td>\n",
       "      <td>17</td>\n",
       "      <td>40</td>\n",
       "    </tr>\n",
       "  </tbody>\n",
       "</table>\n",
       "</div>"
      ],
      "text/plain": [
       "   customer_id  gender  age  annual_income  spending_score\n",
       "0            1    Male   19             15              39\n",
       "1            2    Male   21             15              81\n",
       "2            3  Female   20             16               6\n",
       "3            4  Female   23             16              77\n",
       "4            5  Female   31             17              40"
      ]
     },
     "execution_count": 18,
     "metadata": {},
     "output_type": "execute_result"
    }
   ],
   "source": [
    "df.head()"
   ]
  },
  {
   "cell_type": "markdown",
   "id": "642f66a8",
   "metadata": {},
   "source": [
    "2. Summarize the data (include distributions and descriptive statistics).\n"
   ]
  },
  {
   "cell_type": "code",
   "execution_count": 19,
   "id": "b4bdd70b",
   "metadata": {},
   "outputs": [
    {
     "data": {
      "text/plain": [
       "<bound method DataFrame.info of      customer_id  gender  age  annual_income  spending_score\n",
       "0              1    Male   19             15              39\n",
       "1              2    Male   21             15              81\n",
       "2              3  Female   20             16               6\n",
       "3              4  Female   23             16              77\n",
       "4              5  Female   31             17              40\n",
       "..           ...     ...  ...            ...             ...\n",
       "195          196  Female   35            120              79\n",
       "196          197  Female   45            126              28\n",
       "197          198    Male   32            126              74\n",
       "198          199    Male   32            137              18\n",
       "199          200    Male   30            137              83\n",
       "\n",
       "[200 rows x 5 columns]>"
      ]
     },
     "execution_count": 19,
     "metadata": {},
     "output_type": "execute_result"
    }
   ],
   "source": [
    "df.info"
   ]
  },
  {
   "cell_type": "code",
   "execution_count": 20,
   "id": "aef04cf5",
   "metadata": {},
   "outputs": [
    {
     "data": {
      "text/plain": [
       "<bound method NDFrame.describe of      customer_id  gender  age  annual_income  spending_score\n",
       "0              1    Male   19             15              39\n",
       "1              2    Male   21             15              81\n",
       "2              3  Female   20             16               6\n",
       "3              4  Female   23             16              77\n",
       "4              5  Female   31             17              40\n",
       "..           ...     ...  ...            ...             ...\n",
       "195          196  Female   35            120              79\n",
       "196          197  Female   45            126              28\n",
       "197          198    Male   32            126              74\n",
       "198          199    Male   32            137              18\n",
       "199          200    Male   30            137              83\n",
       "\n",
       "[200 rows x 5 columns]>"
      ]
     },
     "execution_count": 20,
     "metadata": {},
     "output_type": "execute_result"
    }
   ],
   "source": [
    "df.describe"
   ]
  },
  {
   "cell_type": "code",
   "execution_count": 21,
   "id": "db461dd4",
   "metadata": {},
   "outputs": [
    {
     "data": {
      "text/plain": [
       "<AxesSubplot:xlabel='age', ylabel='Count'>"
      ]
     },
     "execution_count": 21,
     "metadata": {},
     "output_type": "execute_result"
    },
    {
     "data": {
      "image/png": "[encoded data removed]",
      "text/plain": [
       "<Figure size 432x288 with 1 Axes>"
      ]
     },
     "metadata": {
      "needs_background": "light"
     },
     "output_type": "display_data"
    }
   ],
   "source": [
    "sns.histplot(df.age)"
   ]
  },
  {
   "cell_type": "code",
   "execution_count": 22,
   "id": "47d21cfb",
   "metadata": {},
   "outputs": [
    {
     "data": {
      "text/plain": [
       "<AxesSubplot:xlabel='annual_income', ylabel='Count'>"
      ]
     },
     "execution_count": 22,
     "metadata": {},
     "output_type": "execute_result"
    },
    {
     "data": {
      "image/png": "[encoded data removed]",
      "text/plain": [
       "<Figure size 432x288 with 1 Axes>"
      ]
     },
     "metadata": {
      "needs_background": "light"
     },
     "output_type": "display_data"
    }
   ],
   "source": [
    "sns.histplot(df.annual_income)"
   ]
  },
  {
   "cell_type": "code",
   "execution_count": 23,
   "id": "b9d7c284",
   "metadata": {},
   "outputs": [
    {
     "data": {
      "text/plain": [
       "<AxesSubplot:xlabel='spending_score', ylabel='Count'>"
      ]
     },
     "execution_count": 23,
     "metadata": {},
     "output_type": "execute_result"
    },
    {
     "data": {
      "image/png": "[encoded data removed]",
      "text/plain": [
       "<Figure size 432x288 with 1 Axes>"
      ]
     },
     "metadata": {
      "needs_background": "light"
     },
     "output_type": "display_data"
    }
   ],
   "source": [
    "sns.histplot(df.spending_score)"
   ]
  },
  {
   "cell_type": "markdown",
   "id": "339d819c",
   "metadata": {},
   "source": [
    "3. Detect outliers using IQR.\n"
   ]
  },
  {
   "cell_type": "code",
   "execution_count": 25,
   "id": "a8f86f27",
   "metadata": {},
   "outputs": [
    {
     "data": {
      "text/plain": [
       "(79.375, -1.625)"
      ]
     },
     "execution_count": 25,
     "metadata": {},
     "output_type": "execute_result"
    }
   ],
   "source": [
    "q1, q3 = df.age.quantile([.25, .75])\n",
    "iqr = q3 - q1\n",
    "upper_bound = q3 + (1.5 * iqr)\n",
    "\n",
    "lower_bound = q1 - (1.5 * iqr)\n",
    "\n",
    "upper_bound, lower_bound"
   ]
  },
  {
   "cell_type": "code",
   "execution_count": 26,
   "id": "9efc8891",
   "metadata": {},
   "outputs": [
    {
     "data": {
      "text/plain": [
       "70"
      ]
     },
     "execution_count": 26,
     "metadata": {},
     "output_type": "execute_result"
    }
   ],
   "source": [
    "df.age.max()"
   ]
  },
  {
   "cell_type": "markdown",
   "id": "68348616",
   "metadata": {},
   "source": [
    "No age outliers."
   ]
  },
  {
   "cell_type": "code",
   "execution_count": 27,
   "id": "bb2fd846",
   "metadata": {},
   "outputs": [
    {
     "data": {
      "text/plain": [
       "(132.75, -13.25)"
      ]
     },
     "execution_count": 27,
     "metadata": {},
     "output_type": "execute_result"
    }
   ],
   "source": [
    "q1, q3 = df.annual_income.quantile([.25, .75])\n",
    "iqr = q3 - q1\n",
    "upper_bound = q3 + (1.5 * iqr)\n",
    "\n",
    "lower_bound = q1 - (1.5 * iqr)\n",
    "\n",
    "upper_bound, lower_bound"
   ]
  },
  {
   "cell_type": "code",
   "execution_count": 28,
   "id": "2584cea2",
   "metadata": {},
   "outputs": [],
   "source": [
    "df['income_outlier'] = df.annual_income > upper_bound"
   ]
  },
  {
   "cell_type": "code",
   "execution_count": 29,
   "id": "091bc5c1",
   "metadata": {},
   "outputs": [
    {
     "data": {
      "text/html": [
       "<div>\n",
       "<style scoped>\n",
       "    .dataframe tbody tr th:only-of-type {\n",
       "        vertical-align: middle;\n",
       "    }\n",
       "\n",
       "    .dataframe tbody tr th {\n",
       "        vertical-align: top;\n",
       "    }\n",
       "\n",
       "    .dataframe thead th {\n",
       "        text-align: right;\n",
       "    }\n",
       "</style>\n",
       "<table border=\"1\" class=\"dataframe\">\n",
       "  <thead>\n",
       "    <tr style=\"text-align: right;\">\n",
       "      <th></th>\n",
       "      <th>customer_id</th>\n",
       "      <th>gender</th>\n",
       "      <th>age</th>\n",
       "      <th>annual_income</th>\n",
       "      <th>spending_score</th>\n",
       "      <th>income_outlier</th>\n",
       "    </tr>\n",
       "  </thead>\n",
       "  <tbody>\n",
       "    <tr>\n",
       "      <th>0</th>\n",
       "      <td>1</td>\n",
       "      <td>Male</td>\n",
       "      <td>19</td>\n",
       "      <td>15</td>\n",
       "      <td>39</td>\n",
       "      <td>False</td>\n",
       "    </tr>\n",
       "    <tr>\n",
       "      <th>1</th>\n",
       "      <td>2</td>\n",
       "      <td>Male</td>\n",
       "      <td>21</td>\n",
       "      <td>15</td>\n",
       "      <td>81</td>\n",
       "      <td>False</td>\n",
       "    </tr>\n",
       "    <tr>\n",
       "      <th>2</th>\n",
       "      <td>3</td>\n",
       "      <td>Female</td>\n",
       "      <td>20</td>\n",
       "      <td>16</td>\n",
       "      <td>6</td>\n",
       "      <td>False</td>\n",
       "    </tr>\n",
       "    <tr>\n",
       "      <th>3</th>\n",
       "      <td>4</td>\n",
       "      <td>Female</td>\n",
       "      <td>23</td>\n",
       "      <td>16</td>\n",
       "      <td>77</td>\n",
       "      <td>False</td>\n",
       "    </tr>\n",
       "    <tr>\n",
       "      <th>4</th>\n",
       "      <td>5</td>\n",
       "      <td>Female</td>\n",
       "      <td>31</td>\n",
       "      <td>17</td>\n",
       "      <td>40</td>\n",
       "      <td>False</td>\n",
       "    </tr>\n",
       "  </tbody>\n",
       "</table>\n",
       "</div>"
      ],
      "text/plain": [
       "   customer_id  gender  age  annual_income  spending_score  income_outlier\n",
       "0            1    Male   19             15              39           False\n",
       "1            2    Male   21             15              81           False\n",
       "2            3  Female   20             16               6           False\n",
       "3            4  Female   23             16              77           False\n",
       "4            5  Female   31             17              40           False"
      ]
     },
     "execution_count": 29,
     "metadata": {},
     "output_type": "execute_result"
    }
   ],
   "source": [
    "df.head()"
   ]
  },
  {
   "cell_type": "code",
   "execution_count": 30,
   "id": "ad4cd73b",
   "metadata": {},
   "outputs": [
    {
     "data": {
      "text/plain": [
       "(130.375, -22.625)"
      ]
     },
     "execution_count": 30,
     "metadata": {},
     "output_type": "execute_result"
    }
   ],
   "source": [
    "q1, q3 = df.spending_score.quantile([.25, .75])\n",
    "iqr = q3 - q1\n",
    "upper_bound = q3 + (1.5 * iqr)\n",
    "\n",
    "lower_bound = q1 - (1.5 * iqr)\n",
    "\n",
    "upper_bound, lower_bound"
   ]
  },
  {
   "cell_type": "code",
   "execution_count": 31,
   "id": "3f99b551",
   "metadata": {},
   "outputs": [
    {
     "data": {
      "text/plain": [
       "99"
      ]
     },
     "execution_count": 31,
     "metadata": {},
     "output_type": "execute_result"
    }
   ],
   "source": [
    "df.spending_score.max()"
   ]
  },
  {
   "cell_type": "markdown",
   "id": "13cd1aea",
   "metadata": {},
   "source": [
    "No spending score outliers,"
   ]
  },
  {
   "cell_type": "markdown",
   "id": "5a864d57",
   "metadata": {},
   "source": [
    "4. Split data into train, validate, and test.\n"
   ]
  },
  {
   "cell_type": "code",
   "execution_count": 33,
   "id": "3ce196a3",
   "metadata": {},
   "outputs": [],
   "source": [
    "train, test = train_test_split(df, test_size=.2)\n",
    "train, validate = train_test_split(train, test_size = .3)"
   ]
  },
  {
   "cell_type": "code",
   "execution_count": 34,
   "id": "154d35ad",
   "metadata": {},
   "outputs": [
    {
     "data": {
      "text/plain": [
       "((112, 6), (48, 6), (40, 6))"
      ]
     },
     "execution_count": 34,
     "metadata": {},
     "output_type": "execute_result"
    }
   ],
   "source": [
    "train.shape, validate.shape, test.shape"
   ]
  },
  {
   "cell_type": "markdown",
   "id": "e95ef2d7",
   "metadata": {},
   "source": [
    "5. Encode categorical columns using a one hot encoder (pd.get_dummies)."
   ]
  },
  {
   "cell_type": "code",
   "execution_count": 35,
   "id": "71937ecd",
   "metadata": {},
   "outputs": [
    {
     "data": {
      "text/html": [
       "<div>\n",
       "<style scoped>\n",
       "    .dataframe tbody tr th:only-of-type {\n",
       "        vertical-align: middle;\n",
       "    }\n",
       "\n",
       "    .dataframe tbody tr th {\n",
       "        vertical-align: top;\n",
       "    }\n",
       "\n",
       "    .dataframe thead th {\n",
       "        text-align: right;\n",
       "    }\n",
       "</style>\n",
       "<table border=\"1\" class=\"dataframe\">\n",
       "  <thead>\n",
       "    <tr style=\"text-align: right;\">\n",
       "      <th></th>\n",
       "      <th>customer_id</th>\n",
       "      <th>age</th>\n",
       "      <th>annual_income</th>\n",
       "      <th>spending_score</th>\n",
       "      <th>income_outlier</th>\n",
       "      <th>gender_Male</th>\n",
       "    </tr>\n",
       "  </thead>\n",
       "  <tbody>\n",
       "    <tr>\n",
       "      <th>0</th>\n",
       "      <td>1</td>\n",
       "      <td>19</td>\n",
       "      <td>15</td>\n",
       "      <td>39</td>\n",
       "      <td>False</td>\n",
       "      <td>1</td>\n",
       "    </tr>\n",
       "    <tr>\n",
       "      <th>1</th>\n",
       "      <td>2</td>\n",
       "      <td>21</td>\n",
       "      <td>15</td>\n",
       "      <td>81</td>\n",
       "      <td>False</td>\n",
       "      <td>1</td>\n",
       "    </tr>\n",
       "    <tr>\n",
       "      <th>2</th>\n",
       "      <td>3</td>\n",
       "      <td>20</td>\n",
       "      <td>16</td>\n",
       "      <td>6</td>\n",
       "      <td>False</td>\n",
       "      <td>0</td>\n",
       "    </tr>\n",
       "    <tr>\n",
       "      <th>3</th>\n",
       "      <td>4</td>\n",
       "      <td>23</td>\n",
       "      <td>16</td>\n",
       "      <td>77</td>\n",
       "      <td>False</td>\n",
       "      <td>0</td>\n",
       "    </tr>\n",
       "    <tr>\n",
       "      <th>4</th>\n",
       "      <td>5</td>\n",
       "      <td>31</td>\n",
       "      <td>17</td>\n",
       "      <td>40</td>\n",
       "      <td>False</td>\n",
       "      <td>0</td>\n",
       "    </tr>\n",
       "  </tbody>\n",
       "</table>\n",
       "</div>"
      ],
      "text/plain": [
       "   customer_id  age  annual_income  spending_score  income_outlier  \\\n",
       "0            1   19             15              39           False   \n",
       "1            2   21             15              81           False   \n",
       "2            3   20             16               6           False   \n",
       "3            4   23             16              77           False   \n",
       "4            5   31             17              40           False   \n",
       "\n",
       "   gender_Male  \n",
       "0            1  \n",
       "1            1  \n",
       "2            0  \n",
       "3            0  \n",
       "4            0  "
      ]
     },
     "execution_count": 35,
     "metadata": {},
     "output_type": "execute_result"
    }
   ],
   "source": [
    "dummy_df = pd.get_dummies(df, columns = ['gender'], drop_first=True, dummy_na=False)\n",
    "dummy_df.head()"
   ]
  },
  {
   "cell_type": "markdown",
   "id": "c0bb66d4",
   "metadata": {},
   "source": [
    "6. Handles missing values."
   ]
  },
  {
   "cell_type": "code",
   "execution_count": 37,
   "id": "b1d8523f",
   "metadata": {},
   "outputs": [
    {
     "data": {
      "text/plain": [
       "customer_id  gender  age    annual_income  spending_score  income_outlier\n",
       "False        False   False  False          False           False             200\n",
       "dtype: int64"
      ]
     },
     "execution_count": 37,
     "metadata": {},
     "output_type": "execute_result"
    }
   ],
   "source": [
    "df.isna().value_counts()"
   ]
  },
  {
   "cell_type": "markdown",
   "id": "9f645cb0",
   "metadata": {},
   "source": [
    "There are no missing values."
   ]
  },
  {
   "cell_type": "markdown",
   "id": "d543692d",
   "metadata": {},
   "source": [
    "7. Scaling"
   ]
  },
  {
   "cell_type": "code",
   "execution_count": 39,
   "id": "d92cfc41",
   "metadata": {},
   "outputs": [],
   "source": [
    "columns_to_scale = dummy_df.select_dtypes('number').columns.tolist()"
   ]
  },
  {
   "cell_type": "code",
   "execution_count": 42,
   "id": "f30d6496",
   "metadata": {},
   "outputs": [],
   "source": [
    "columns_to_scale\n",
    "\n",
    "scaler = MinMaxScaler()\n",
    "scaled_df = dummy_df.copy()"
   ]
  },
  {
   "cell_type": "code",
   "execution_count": 43,
   "id": "031380f1",
   "metadata": {},
   "outputs": [],
   "source": [
    "scaled_df[columns_to_scale] = pd.DataFrame(scaler.fit_transform(dummy_df[columns_to_scale]),\n",
    "                                          columns=columns_to_scale).set_index([dummy_df.index])"
   ]
  },
  {
   "cell_type": "code",
   "execution_count": 44,
   "id": "d64bc3d9",
   "metadata": {},
   "outputs": [
    {
     "data": {
      "text/html": [
       "<div>\n",
       "<style scoped>\n",
       "    .dataframe tbody tr th:only-of-type {\n",
       "        vertical-align: middle;\n",
       "    }\n",
       "\n",
       "    .dataframe tbody tr th {\n",
       "        vertical-align: top;\n",
       "    }\n",
       "\n",
       "    .dataframe thead th {\n",
       "        text-align: right;\n",
       "    }\n",
       "</style>\n",
       "<table border=\"1\" class=\"dataframe\">\n",
       "  <thead>\n",
       "    <tr style=\"text-align: right;\">\n",
       "      <th></th>\n",
       "      <th>customer_id</th>\n",
       "      <th>age</th>\n",
       "      <th>annual_income</th>\n",
       "      <th>spending_score</th>\n",
       "      <th>income_outlier</th>\n",
       "      <th>gender_Male</th>\n",
       "    </tr>\n",
       "  </thead>\n",
       "  <tbody>\n",
       "    <tr>\n",
       "      <th>0</th>\n",
       "      <td>0.000000</td>\n",
       "      <td>0.019231</td>\n",
       "      <td>0.000000</td>\n",
       "      <td>0.387755</td>\n",
       "      <td>False</td>\n",
       "      <td>1.0</td>\n",
       "    </tr>\n",
       "    <tr>\n",
       "      <th>1</th>\n",
       "      <td>0.005025</td>\n",
       "      <td>0.057692</td>\n",
       "      <td>0.000000</td>\n",
       "      <td>0.816327</td>\n",
       "      <td>False</td>\n",
       "      <td>1.0</td>\n",
       "    </tr>\n",
       "    <tr>\n",
       "      <th>2</th>\n",
       "      <td>0.010050</td>\n",
       "      <td>0.038462</td>\n",
       "      <td>0.008197</td>\n",
       "      <td>0.051020</td>\n",
       "      <td>False</td>\n",
       "      <td>0.0</td>\n",
       "    </tr>\n",
       "    <tr>\n",
       "      <th>3</th>\n",
       "      <td>0.015075</td>\n",
       "      <td>0.096154</td>\n",
       "      <td>0.008197</td>\n",
       "      <td>0.775510</td>\n",
       "      <td>False</td>\n",
       "      <td>0.0</td>\n",
       "    </tr>\n",
       "    <tr>\n",
       "      <th>4</th>\n",
       "      <td>0.020101</td>\n",
       "      <td>0.250000</td>\n",
       "      <td>0.016393</td>\n",
       "      <td>0.397959</td>\n",
       "      <td>False</td>\n",
       "      <td>0.0</td>\n",
       "    </tr>\n",
       "    <tr>\n",
       "      <th>...</th>\n",
       "      <td>...</td>\n",
       "      <td>...</td>\n",
       "      <td>...</td>\n",
       "      <td>...</td>\n",
       "      <td>...</td>\n",
       "      <td>...</td>\n",
       "    </tr>\n",
       "    <tr>\n",
       "      <th>195</th>\n",
       "      <td>0.979899</td>\n",
       "      <td>0.326923</td>\n",
       "      <td>0.860656</td>\n",
       "      <td>0.795918</td>\n",
       "      <td>False</td>\n",
       "      <td>0.0</td>\n",
       "    </tr>\n",
       "    <tr>\n",
       "      <th>196</th>\n",
       "      <td>0.984925</td>\n",
       "      <td>0.519231</td>\n",
       "      <td>0.909836</td>\n",
       "      <td>0.275510</td>\n",
       "      <td>False</td>\n",
       "      <td>0.0</td>\n",
       "    </tr>\n",
       "    <tr>\n",
       "      <th>197</th>\n",
       "      <td>0.989950</td>\n",
       "      <td>0.269231</td>\n",
       "      <td>0.909836</td>\n",
       "      <td>0.744898</td>\n",
       "      <td>False</td>\n",
       "      <td>1.0</td>\n",
       "    </tr>\n",
       "    <tr>\n",
       "      <th>198</th>\n",
       "      <td>0.994975</td>\n",
       "      <td>0.269231</td>\n",
       "      <td>1.000000</td>\n",
       "      <td>0.173469</td>\n",
       "      <td>True</td>\n",
       "      <td>1.0</td>\n",
       "    </tr>\n",
       "    <tr>\n",
       "      <th>199</th>\n",
       "      <td>1.000000</td>\n",
       "      <td>0.230769</td>\n",
       "      <td>1.000000</td>\n",
       "      <td>0.836735</td>\n",
       "      <td>True</td>\n",
       "      <td>1.0</td>\n",
       "    </tr>\n",
       "  </tbody>\n",
       "</table>\n",
       "<p>200 rows × 6 columns</p>\n",
       "</div>"
      ],
      "text/plain": [
       "     customer_id       age  annual_income  spending_score  income_outlier  \\\n",
       "0       0.000000  0.019231       0.000000        0.387755           False   \n",
       "1       0.005025  0.057692       0.000000        0.816327           False   \n",
       "2       0.010050  0.038462       0.008197        0.051020           False   \n",
       "3       0.015075  0.096154       0.008197        0.775510           False   \n",
       "4       0.020101  0.250000       0.016393        0.397959           False   \n",
       "..           ...       ...            ...             ...             ...   \n",
       "195     0.979899  0.326923       0.860656        0.795918           False   \n",
       "196     0.984925  0.519231       0.909836        0.275510           False   \n",
       "197     0.989950  0.269231       0.909836        0.744898           False   \n",
       "198     0.994975  0.269231       1.000000        0.173469            True   \n",
       "199     1.000000  0.230769       1.000000        0.836735            True   \n",
       "\n",
       "     gender_Male  \n",
       "0            1.0  \n",
       "1            1.0  \n",
       "2            0.0  \n",
       "3            0.0  \n",
       "4            0.0  \n",
       "..           ...  \n",
       "195          0.0  \n",
       "196          0.0  \n",
       "197          1.0  \n",
       "198          1.0  \n",
       "199          1.0  \n",
       "\n",
       "[200 rows x 6 columns]"
      ]
     },
     "execution_count": 44,
     "metadata": {},
     "output_type": "execute_result"
    }
   ],
   "source": [
    "scaled_df"
   ]
  },
  {
   "cell_type": "code",
   "execution_count": null,
   "id": "b0096df7",
   "metadata": {},
   "outputs": [],
   "source": []
  }
 ],
 "metadata": {
  "kernelspec": {
   "display_name": "Python 3 (ipykernel)",
   "language": "python",
   "name": "python3"
  },
  "language_info": {
   "codemirror_mode": {
    "name": "ipython",
    "version": 3
   },
   "file_extension": ".py",
   "mimetype": "text/x-python",
   "name": "python",
   "nbconvert_exporter": "python",
   "pygments_lexer": "ipython3",
   "version": "3.9.7"
  }
 },
 "nbformat": 4,
 "nbformat_minor": 5
}
